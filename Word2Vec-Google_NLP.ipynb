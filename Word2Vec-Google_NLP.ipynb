{
 "cells": [
  {
   "cell_type": "code",
   "execution_count": 1,
   "metadata": {},
   "outputs": [],
   "source": [
    "import sys\n",
    "import subprocess\n",
    "import os\n",
    "from os import listdir\n",
    "from os.path import isfile, join\n",
    "import numpy as np"
   ]
  },
  {
   "cell_type": "markdown",
   "metadata": {},
   "source": [
    "# Different training sizes"
   ]
  },
  {
   "cell_type": "markdown",
   "metadata": {},
   "source": [
    "size1_corpus -> get 25% of text8 <br/>\n",
    "size2_corpus -> get 50% of text8 <br/>\n",
    "size3_corpus -> get 75% of text8 <br/>\n",
    "size4_corpus -> get 100% of text8 <br/>"
   ]
  },
  {
   "cell_type": "code",
   "execution_count": 2,
   "metadata": {},
   "outputs": [],
   "source": [
    "#read sampling\n",
    "file_read  = open(\"text8\", \"r\") "
   ]
  },
  {
   "cell_type": "code",
   "execution_count": 3,
   "metadata": {},
   "outputs": [
    {
     "data": {
      "text/plain": [
       "1"
      ]
     },
     "execution_count": 3,
     "metadata": {},
     "output_type": "execute_result"
    }
   ],
   "source": [
    "num_lines = sum(1 for line in open('text8'))\n",
    "num_lines"
   ]
  },
  {
   "cell_type": "code",
   "execution_count": 4,
   "metadata": {},
   "outputs": [
    {
     "data": {
      "text/plain": [
       "17005208"
      ]
     },
     "execution_count": 4,
     "metadata": {},
     "output_type": "execute_result"
    }
   ],
   "source": [
    "data = file_read.readline()\n",
    "file_read.close()\n",
    "data = data.split(\" \")\n",
    "len(data)"
   ]
  },
  {
   "cell_type": "code",
   "execution_count": 7,
   "metadata": {},
   "outputs": [],
   "source": [
    "#get size corpus\n",
    "size_corpus = []\n",
    "sizes = [0.25, 0.5, 0.75, 1]\n",
    "for i in range(0,4):\n",
    "    size_corpus.append(round(len(data)*sizes[i]))"
   ]
  },
  {
   "cell_type": "code",
   "execution_count": 9,
   "metadata": {},
   "outputs": [],
   "source": [
    "corpus = []\n",
    "#get content corpus\n",
    "for i in range(0,4):\n",
    "    corpus.append(' '.join(data[0:size_corpus[i]]))"
   ]
  },
  {
   "cell_type": "code",
   "execution_count": 15,
   "metadata": {},
   "outputs": [],
   "source": [
    "#writefile\n",
    "for i in range(0,4):\n",
    "    file_write = open(\"text8_size\"+str(i+1), \"w\")\n",
    "    file_write.write(corpus[i])\n",
    "    file_write.close()"
   ]
  },
  {
   "cell_type": "code",
   "execution_count": 16,
   "metadata": {},
   "outputs": [
    {
     "data": {
      "text/plain": [
       "24963753"
      ]
     },
     "execution_count": 16,
     "metadata": {},
     "output_type": "execute_result"
    }
   ],
   "source": [
    "os.path.getsize(\"text8_size1\")"
   ]
  },
  {
   "cell_type": "code",
   "execution_count": 17,
   "metadata": {},
   "outputs": [
    {
     "data": {
      "text/plain": [
       "50103445"
      ]
     },
     "execution_count": 17,
     "metadata": {},
     "output_type": "execute_result"
    }
   ],
   "source": [
    "os.path.getsize(\"text8_size2\")"
   ]
  },
  {
   "cell_type": "code",
   "execution_count": 18,
   "metadata": {},
   "outputs": [
    {
     "data": {
      "text/plain": [
       "75118081"
      ]
     },
     "execution_count": 18,
     "metadata": {},
     "output_type": "execute_result"
    }
   ],
   "source": [
    "os.path.getsize(\"text8_size3\")"
   ]
  },
  {
   "cell_type": "markdown",
   "metadata": {},
   "source": [
    "os.path.getsize(\"text8_size4\")"
   ]
  },
  {
   "cell_type": "markdown",
   "metadata": {},
   "source": [
    "# Run Models"
   ]
  },
  {
   "cell_type": "code",
   "execution_count": 25,
   "metadata": {},
   "outputs": [],
   "source": [
    "def run_model(command):\n",
    "    p = subprocess.Popen(command, shell=True, stdout=subprocess.PIPE)\n",
    "    while True:\n",
    "        out = p.stdout.read(100)\n",
    "        if len(out) == 0 and p.poll() != None:\n",
    "            break\n",
    "        if out != '':\n",
    "            sys.stdout.write(\"\\r\")\n",
    "            sys.stdout.write(out)\n",
    "            sys.stdout.flush()"
   ]
  },
  {
   "cell_type": "code",
   "execution_count": 25,
   "metadata": {},
   "outputs": [],
   "source": [
    "file_corpus = [\"text8_size1\", \"text8_size2\", \"text8_size3\", \"text8_size4\"]"
   ]
  },
  {
   "cell_type": "code",
   "execution_count": 26,
   "metadata": {},
   "outputs": [],
   "source": [
    "windows = [3, 4, 5, 6, 7]"
   ]
  },
  {
   "cell_type": "code",
   "execution_count": 27,
   "metadata": {},
   "outputs": [],
   "source": [
    "cbow_skipgram = [1, 0]"
   ]
  },
  {
   "cell_type": "code",
   "execution_count": 29,
   "metadata": {},
   "outputs": [],
   "source": [
    "number_of_models = len(file_corpus)*len(windows)*len(cbow_skipgram)\n",
    "model = 1\n",
    "for typ in cbow_skipgram:\n",
    "    for file in file_corpus:\n",
    "        for window in windows:\n",
    "            print(\"MODELO \" + str(i)+\"/\"+str(number_of_models))\n",
    "            model_command = \"./word2vec -train \"+ str(file) +\" -output model_\"+str(model)+\".bin -cbow \"+ str(typ) + \" -window \"+ str(window)+\" -binary 1\"\n",
    "            run_model(model_command)\n",
    "            model = model + 1   "
   ]
  },
  {
   "cell_type": "markdown",
   "metadata": {},
   "source": [
    "# Ajust Test File"
   ]
  },
  {
   "cell_type": "code",
   "execution_count": 30,
   "metadata": {},
   "outputs": [],
   "source": [
    "#read sampling\n",
    "file_read  = open(\"questions-words.txt\", \"r\") "
   ]
  },
  {
   "cell_type": "code",
   "execution_count": 31,
   "metadata": {},
   "outputs": [],
   "source": [
    "data_test = file_read.readlines()\n",
    "file_read.close()"
   ]
  },
  {
   "cell_type": "code",
   "execution_count": 32,
   "metadata": {},
   "outputs": [],
   "source": [
    "file_write = open(\"file_test_questions_words.txt\", \"w\")\n",
    "for d in data_test:\n",
    "    if(\":\" not in d):\n",
    "        d = d.lower()\n",
    "        file_write.write(d)\n",
    "file_write.close()"
   ]
  },
  {
   "cell_type": "markdown",
   "metadata": {},
   "source": [
    "# Run Word Analogy - Find distances"
   ]
  },
  {
   "cell_type": "code",
   "execution_count": 30,
   "metadata": {},
   "outputs": [],
   "source": [
    "def read_file_test():\n",
    "    file_read  = open(\"file_test_questions_words.txt\", \"r\")\n",
    "    data = file_read.readlines()\n",
    "    file_read.close()\n",
    "    return data"
   ]
  },
  {
   "cell_type": "code",
   "execution_count": 31,
   "metadata": {},
   "outputs": [],
   "source": [
    "def sequence_words(words):\n",
    "    seq_words = [str(words[0:3]).replace(\"'\",\"\").replace(\"[\",\"\").replace(\"]\",\"\").replace(\",\",\"\").encode('utf-8')]\n",
    "    seq_words.append(\"EXIT\\n\".encode('utf-8'))\n",
    "    \n",
    "    return seq_words"
   ]
  },
  {
   "cell_type": "code",
   "execution_count": 32,
   "metadata": {},
   "outputs": [],
   "source": [
    "def run_word_analogy(command, seq_words):\n",
    "    p = subprocess.Popen(command, stdout=subprocess.PIPE, stdin=subprocess.PIPE, shell=True)\n",
    "    result = p.communicate(b'\\n'.join(seq_words))\n",
    "    result = (str(result[0]).split(\";\"))\n",
    "    if(len(result) > 5):\n",
    "        #delete invalid data\n",
    "        del result[0] \n",
    "        del result[-1]\n",
    "        del result[-1]\n",
    "    return result"
   ]
  },
  {
   "cell_type": "code",
   "execution_count": 33,
   "metadata": {},
   "outputs": [],
   "source": [
    "def get_info_first_word(result):\n",
    "    word, dist = result[0].split(\":\")\n",
    "    word = word.lstrip()\n",
    "    dist = float(dist)\n",
    "    return word, dist"
   ]
  },
  {
   "cell_type": "code",
   "execution_count": 34,
   "metadata": {},
   "outputs": [],
   "source": [
    "def get_distance(result):\n",
    "    distance = 0\n",
    "    find_word = False\n",
    "    if(len(result) > 5): #returned ranking\n",
    "        first_word, dist_first_word = get_info_first_word(result)\n",
    "        for r in result:\n",
    "            w, d = r.split(\":\")\n",
    "            if(words[3] == w.lstrip()):\n",
    "                distance = dist_first_word - float(d)\n",
    "                find_word = True\n",
    "                break   \n",
    "    else: #not ranking\n",
    "        find_word = True\n",
    "        distance = -1\n",
    "    if(not find_word):\n",
    "        distance = -2\n",
    "    return distance"
   ]
  },
  {
   "cell_type": "code",
   "execution_count": 35,
   "metadata": {},
   "outputs": [],
   "source": [
    "# write file distances\n",
    "#writefile\n",
    "def write_file(id_modelo, distance):\n",
    "    file_write = open(\"result_modelo_\"+id_modelo, \"a\")\n",
    "    file_write.write(str(distance))\n",
    "    file_write.write(\"\\n\")\n",
    "    file_write.close() \n",
    "    #print(\"Write Model \" + str(id_modelo))"
   ]
  },
  {
   "cell_type": "code",
   "execution_count": 36,
   "metadata": {},
   "outputs": [],
   "source": [
    "mypath = \"./models/\"\n",
    "\n",
    "models = [f for f in listdir(mypath) if isfile(join(mypath, f))]"
   ]
  },
  {
   "cell_type": "code",
   "execution_count": 37,
   "metadata": {},
   "outputs": [],
   "source": [
    "mypath2 = \"./results/\"\n",
    "\n",
    "results_models = [f for f in listdir(mypath2) if isfile(join(mypath2, f))]"
   ]
  },
  {
   "cell_type": "code",
   "execution_count": 38,
   "metadata": {},
   "outputs": [],
   "source": [
    "idModels_runneds = []\n",
    "for res in results_models:\n",
    "    idModels_runneds.append(res[14:])"
   ]
  },
  {
   "cell_type": "code",
   "execution_count": 39,
   "metadata": {},
   "outputs": [],
   "source": [
    "#  0 -> palavra do topo\n",
    "# -1 -> não tem ranking\n",
    "# -2 -> não ta no ranking"
   ]
  },
  {
   "cell_type": "code",
   "execution_count": 41,
   "metadata": {},
   "outputs": [],
   "source": [
    "#for m in models:\n",
    "for m in models:\n",
    "    idModel = m[6:].replace(\".bin\",\"\")\n",
    "    command = './word-analogy ./models/' + m\n",
    "    \n",
    "    #if(idModel in idModels_runneds):\n",
    "    #    continue\n",
    "    \n",
    "    data_test = read_file_test()\n",
    "    i = 1\n",
    "    size = len(data_test)\n",
    "    for d in data_test:\n",
    "        print(\"MODELO \"+idModel + \" \" +str(i)+\"/\"+str(size))\n",
    "        words = d.replace(\"\\n\",\"\")\n",
    "        words = words.split(\" \")\n",
    "        seq_words = sequence_words(words)\n",
    "        result = run_word_analogy(command,seq_words)\n",
    "        distance = get_distance(result)\n",
    "        write_file(idModel, distance)\n",
    "        i = i + 1\n",
    "    idModels_runneds.append(idModel)"
   ]
  },
  {
   "cell_type": "markdown",
   "metadata": {},
   "source": [
    "# Evalute Models"
   ]
  },
  {
   "cell_type": "code",
   "execution_count": 42,
   "metadata": {},
   "outputs": [],
   "source": [
    "import matplotlib.pyplot as plt\n",
    "\n",
    "import matplotlib\n",
    "%matplotlib inline "
   ]
  },
  {
   "cell_type": "code",
   "execution_count": 43,
   "metadata": {},
   "outputs": [],
   "source": [
    "mypath = \"./results/\"\n",
    "\n",
    "models = [f for f in listdir(mypath) if isfile(join(mypath, f))]"
   ]
  },
  {
   "cell_type": "code",
   "execution_count": 44,
   "metadata": {},
   "outputs": [],
   "source": [
    "def get_results(models):\n",
    "    result_models = {}\n",
    "    for m in models:\n",
    "        idModel = int(m[14:])\n",
    "        file_read  = open(\"./results/\"+m, \"r\") \n",
    "        data = file_read.readlines()\n",
    "        distances = []\n",
    "        for d in data:\n",
    "            distances.append(float(d))\n",
    "        result_models[idModel] = distances\n",
    "\n",
    "    return result_models"
   ]
  },
  {
   "cell_type": "code",
   "execution_count": 45,
   "metadata": {},
   "outputs": [],
   "source": [
    "def get_results_metrics(result_models):\n",
    "    result_models_metrics = {} # mean, mean_wihout_0, ,dp, count_0, count_neg_1, count_neg_2\n",
    "\n",
    "    for r in result_models:\n",
    "        elements = []\n",
    "        elements_not_zero = []\n",
    "        count = 0\n",
    "        count_0 = 0\n",
    "        count_neg_1 = 0\n",
    "        count_neg_2 = 0\n",
    "        for d in result_models[r]:\n",
    "            if(d == 0):\n",
    "                count_0 = count_0 + 1\n",
    "            if(d > 0):\n",
    "                elements_not_zero.append(d)\n",
    "            if(d >= 0):\n",
    "                elements.append(d)\n",
    "            elif(d == -1):\n",
    "                count_neg_1 = count_neg_1 + 1\n",
    "            elif(d == -2):\n",
    "                count_neg_2 = count_neg_2 + 1\n",
    "        result_models_metrics[r] = [round(np.mean(elements),6),round(np.mean(elements_not_zero),6),round(np.std(elements),6),count_0, count_neg_1, count_neg_2 ]\n",
    "    return result_models_metrics\n"
   ]
  },
  {
   "cell_type": "code",
   "execution_count": 46,
   "metadata": {},
   "outputs": [],
   "source": [
    "result_models = get_results(models)\n",
    "result_models_metrics = get_results_metrics(result_models)"
   ]
  },
  {
   "cell_type": "code",
   "execution_count": 47,
   "metadata": {},
   "outputs": [],
   "source": [
    "windows = [3,4,5,6,7]\n",
    "sizes = [25, 50,75, 100]"
   ]
  },
  {
   "cell_type": "markdown",
   "metadata": {},
   "source": [
    "## Gráficos"
   ]
  },
  {
   "cell_type": "code",
   "execution_count": 48,
   "metadata": {},
   "outputs": [],
   "source": [
    "dist_percent_cbow = {}\n",
    "qtde_0_percent_cbow = {}\n",
    "qtde_neg_1_percent_cbow = {}\n",
    "qtde_neg_2_percent_cbow = {}\n",
    "j = 1\n",
    "for i in range(1,21):\n",
    "    if(i == 6 or i == 11 or i == 16 or i == 21):\n",
    "        j = j + 1\n",
    "    if j not in dist_percent_cbow.keys():\n",
    "        dist_percent_cbow[j] = []\n",
    "        qtde_0_percent_cbow[j] = []\n",
    "        qtde_neg_1_percent_cbow[j] = []\n",
    "        qtde_neg_2_percent_cbow[j] = []\n",
    "    dist_percent_cbow[j].append(result_models_metrics[i][0])\n",
    "    qtde_0_percent_cbow[j].append(result_models_metrics[i][3])\n",
    "    qtde_neg_1_percent_cbow[j].append(result_models_metrics[i][4])\n",
    "    qtde_neg_2_percent_cbow[j].append(result_models_metrics[i][5])"
   ]
  },
  {
   "cell_type": "code",
   "execution_count": 49,
   "metadata": {},
   "outputs": [
    {
     "data": {
      "image/png": "[encoded data removed]",
      "text/plain": [
       "<Figure size 288x216 with 1 Axes>"
      ]
     },
     "metadata": {},
     "output_type": "display_data"
    }
   ],
   "source": [
    "f, ax = plt.subplots(1,1,figsize=(4,3))\n",
    "\n",
    "plt.plot(windows, dist_percent_cbow[1], marker='o', label=\"25%\")\n",
    "plt.plot(windows, dist_percent_cbow[2], marker='o', label=\"50%\")\n",
    "plt.plot(windows, dist_percent_cbow[3], marker='o', label=\"75%\")\n",
    "plt.plot(windows, dist_percent_cbow[4], marker='o', label=\"100%\")\n",
    "\n",
    "ax.set_xlabel('Contextos', fontweight='bold')\n",
    "ax.set_ylabel('Distâncias', fontweight='bold')\n",
    "ax.set_title(\"CBOW\", fontweight='bold')\n",
    "ax.legend(loc=1)\n",
    "plt.grid(True)\n",
    "f.tight_layout()\n",
    "#plt.savefig('contexto_distancia_cbow.pdf', format='pdf', dpi=400)"
   ]
  },
  {
   "cell_type": "code",
   "execution_count": 50,
   "metadata": {},
   "outputs": [],
   "source": [
    "dist_percent_skipgram = {}\n",
    "qtde_0_percent_skipgram = {}\n",
    "qtde_neg_1_percent_skipgram = {}\n",
    "qtde_neg_2_percent_skipgram = {}\n",
    "j = 0\n",
    "for i in range(21,41):\n",
    "    if(i == 21 or i == 26 or i == 31 or i == 36):\n",
    "        j = j + 1\n",
    "    if j not in dist_percent_skipgram.keys():\n",
    "        dist_percent_skipgram[j] = []\n",
    "        qtde_0_percent_skipgram[j] = []\n",
    "        qtde_neg_1_percent_skipgram[j] = []\n",
    "        qtde_neg_2_percent_skipgram[j] = []\n",
    "    dist_percent_skipgram[j].append(result_models_metrics[i][0])\n",
    "    qtde_0_percent_skipgram[j].append(result_models_metrics[i][3])\n",
    "    qtde_neg_1_percent_skipgram[j].append(result_models_metrics[i][4])\n",
    "    qtde_neg_2_percent_skipgram[j].append(result_models_metrics[i][5])"
   ]
  },
  {
   "cell_type": "code",
   "execution_count": 51,
   "metadata": {},
   "outputs": [
    {
     "data": {
      "image/png": "[encoded data removed]",
      "text/plain": [
       "<Figure size 288x216 with 1 Axes>"
      ]
     },
     "metadata": {},
     "output_type": "display_data"
    }
   ],
   "source": [
    "f, ax = plt.subplots(1,1,figsize=(4,3))\n",
    "\n",
    "plt.plot(windows, dist_percent_skipgram[1], marker='o', label=\"25%\")\n",
    "plt.plot(windows, dist_percent_skipgram[2], marker='o', label=\"50%\")\n",
    "plt.plot(windows, dist_percent_skipgram[3], marker='o', label=\"75%\")\n",
    "plt.plot(windows, dist_percent_skipgram[4], marker='o', label=\"100%\")\n",
    "\n",
    "\n",
    "ax.set_xticks(windows)\n",
    "ax.set_xlabel('Contextos', fontweight='bold')\n",
    "ax.set_ylabel('Distâncias', fontweight='bold')\n",
    "ax.set_title(\"Skip-Gram\", fontweight='bold')\n",
    "ax.legend(loc=1)\n",
    "\n",
    "plt.grid(True)\n",
    "f.tight_layout()\n",
    "plt.savefig('contexto_distancia_skipgram.pdf', format='pdf', dpi=400)"
   ]
  },
  {
   "cell_type": "code",
   "execution_count": 52,
   "metadata": {},
   "outputs": [
    {
     "data": {
      "image/png": "[encoded data removed]",
      "text/plain": [
       "<Figure size 468x252 with 1 Axes>"
      ]
     },
     "metadata": {},
     "output_type": "display_data"
    }
   ],
   "source": [
    "f, ax = plt.subplots(1,1,figsize=(6.5,3.5))\n",
    "\n",
    "plt.plot(windows, dist_percent_cbow[1], marker='o', label=\"25% - CBOW\")\n",
    "plt.plot(windows, dist_percent_cbow[2], marker='o', label=\"50% - CBOW\")\n",
    "plt.plot(windows, dist_percent_cbow[3], marker='o', label=\"75% - CBOW\")\n",
    "plt.plot(windows, dist_percent_cbow[4], marker='o', label=\"100% - CBOW\")\n",
    "\n",
    "plt.plot(windows, dist_percent_skipgram[1], marker='o', label=\"25% - Skip-gram\")\n",
    "plt.plot(windows, dist_percent_skipgram[2], marker='o', label=\"50% - Skip-gram\")\n",
    "plt.plot(windows, dist_percent_skipgram[3], marker='o', label=\"75% - Skip-gram\")\n",
    "plt.plot(windows, dist_percent_skipgram[4], marker='o', label=\"100% - Skip-gram\")\n",
    "\n",
    "ax.set_xticks(windows)\n",
    "ax.set_xlabel('Contextos', fontweight='bold')\n",
    "ax.set_ylabel('Distâncias', fontweight='bold')\n",
    "ax.set_title(\"CBOW e Skip-Gram\", fontweight='bold')\n",
    "\n",
    "\n",
    "plt.legend(loc='best',bbox_to_anchor=(.99, 0.526, 0.5, 0.5))\n",
    "plt.xticks(windows)\n",
    "\n",
    "plt.grid(True)\n",
    "f.tight_layout()\n",
    "\n",
    "plt.savefig('contexto_distancia_cbow_skipgram.pdf', format='pdf', dpi=400)"
   ]
  },
  {
   "cell_type": "code",
   "execution_count": 53,
   "metadata": {},
   "outputs": [],
   "source": [
    "count_zeros_same_window_skipgram = {}\n",
    "count_zeros_same_window_cbow = {}\n",
    "for i in range(0,5):\n",
    "    count_zeros_same_window_cbow[i] = [qtde_0_percent_cbow[1][i], qtde_0_percent_cbow[2][i], qtde_0_percent_cbow[3][i], qtde_0_percent_cbow[4][i]]\n",
    "    count_zeros_same_window_skipgram[i] = [qtde_0_percent_skipgram[1][i], qtde_0_percent_skipgram[2][i], qtde_0_percent_skipgram[3][i], qtde_0_percent_skipgram[4][i]]"
   ]
  },
  {
   "cell_type": "code",
   "execution_count": 54,
   "metadata": {},
   "outputs": [
    {
     "data": {
      "image/png": "[encoded data removed]",
      "text/plain": [
       "<Figure size 324x216 with 1 Axes>"
      ]
     },
     "metadata": {},
     "output_type": "display_data"
    }
   ],
   "source": [
    "sizes2 = [19, 44, 69, 94]\n",
    "f, ax = plt.subplots(1,1,figsize=(4.5,3))\n",
    "\n",
    "p1 = ax.bar(sizes2, count_zeros_same_window_cbow[4], 6, label=\"CBOW\")\n",
    "\n",
    "p2 = ax.bar(sizes, count_zeros_same_window_skipgram[4], 6, label=\"Skip-Gram\")\n",
    "\n",
    "ax.set_xticklabels(('25%', '50%', '75%', '100%'))\n",
    "ax.set_xticks(sizes2)\n",
    "ax.set_xlabel(\"Tamanho do Corpus\", fontweight='bold')\n",
    "ax.set_ylabel(\"Qtde. Distâncias = 0\", fontweight='bold')\n",
    "ax.set_title(\"Palavras no topo - Contexto = 7 \", fontweight='bold')\n",
    "\n",
    "ax.legend()\n",
    "f.tight_layout()\n",
    "#plt.savefig('palavras_topo.pdf', format='pdf', dpi=400)"
   ]
  },
  {
   "cell_type": "code",
   "execution_count": 55,
   "metadata": {},
   "outputs": [
    {
     "data": {
      "text/plain": [
       "{1: [5746, 5746, 5746, 5746, 5746],\n",
       " 2: [3688, 3688, 3688, 3688, 3688],\n",
       " 3: [2739, 2739, 2739, 2739, 2739],\n",
       " 4: [1440, 1440, 1440, 1440, 1440]}"
      ]
     },
     "execution_count": 55,
     "metadata": {},
     "output_type": "execute_result"
    }
   ],
   "source": [
    "qtde_neg_1_percent_cbow"
   ]
  },
  {
   "cell_type": "code",
   "execution_count": 56,
   "metadata": {},
   "outputs": [
    {
     "data": {
      "text/plain": [
       "{1: [5746, 5746, 5746, 5746, 5746],\n",
       " 2: [3688, 3688, 3688, 3688, 3688],\n",
       " 3: [2739, 2739, 2739, 2739, 2739],\n",
       " 4: [1440, 1440, 1440, 1440, 1440]}"
      ]
     },
     "execution_count": 56,
     "metadata": {},
     "output_type": "execute_result"
    }
   ],
   "source": [
    "qtde_neg_1_percent_skipgram"
   ]
  },
  {
   "cell_type": "code",
   "execution_count": 57,
   "metadata": {},
   "outputs": [
    {
     "data": {
      "image/png": "[encoded data removed]",
      "text/plain": [
       "<Figure size 338.4x216 with 1 Axes>"
      ]
     },
     "metadata": {},
     "output_type": "display_data"
    }
   ],
   "source": [
    "f, ax = plt.subplots(1,1,figsize=(4.7,3))\n",
    "\n",
    "plt.plot(windows, qtde_neg_1_percent_cbow[1], marker='o', label=\"25%\")\n",
    "plt.plot(windows, qtde_neg_1_percent_cbow[2], marker='o', label=\"50%\")\n",
    "plt.plot(windows, qtde_neg_1_percent_cbow[3], marker='o', label=\"75%\")\n",
    "plt.plot(windows, qtde_neg_1_percent_cbow[4], marker='o', label=\"100%\")\n",
    "plt.xticks(windows)\n",
    "\n",
    "\n",
    "ax.set_xlabel('Contextos', fontweight='bold')\n",
    "ax.set_ylabel('Distância = -1', fontweight='bold')\n",
    "ax.set_title(\"Sem Ranking - CBOW e SkipGram\", fontweight='bold')\n",
    "\n",
    "plt.legend(loc='best',bbox_to_anchor=(.99, 0.526, 0.5, 0.5))\n",
    "\n",
    "plt.grid(True)\n",
    "f.tight_layout()\n",
    "\n",
    "plt.savefig('distancia_menos_1.pdf', format='pdf', dpi=400)"
   ]
  },
  {
   "cell_type": "code",
   "execution_count": 58,
   "metadata": {},
   "outputs": [
    {
     "data": {
      "image/png": "[encoded data removed]",
      "text/plain": [
       "<Figure size 288x216 with 1 Axes>"
      ]
     },
     "metadata": {},
     "output_type": "display_data"
    }
   ],
   "source": [
    "f, ax = plt.subplots(1,1,figsize=(4,3))\n",
    "\n",
    "plt.plot(windows, qtde_neg_2_percent_cbow[1], marker='o', label=\"25%\")\n",
    "plt.plot(windows, qtde_neg_2_percent_cbow[2], marker='o', label=\"50%\")\n",
    "plt.plot(windows, qtde_neg_2_percent_cbow[3], marker='o', label=\"75%\")\n",
    "plt.plot(windows, qtde_neg_2_percent_cbow[4], marker='o', label=\"100%\")\n",
    "\n",
    "ax.set_xticks(windows)\n",
    "ax.set_xlabel('Contextos', fontweight='bold')\n",
    "ax.set_ylabel('Distância = -2', fontweight='bold')\n",
    "ax.set_title(\"Não encontrou no ranking - CBOW\", fontweight='bold')\n",
    "\n",
    "plt.grid(True)\n",
    "plt.legend(loc=1)\n",
    "f.tight_layout()\n",
    "\n",
    "plt.savefig('distancia_menos_2_cbow.pdf', format='pdf', dpi=400)"
   ]
  },
  {
   "cell_type": "code",
   "execution_count": 59,
   "metadata": {},
   "outputs": [
    {
     "data": {
      "image/png": "[encoded data removed]",
      "text/plain": [
       "<Figure size 288x216 with 1 Axes>"
      ]
     },
     "metadata": {},
     "output_type": "display_data"
    }
   ],
   "source": [
    "f, ax = plt.subplots(1,1,figsize=(4,3))\n",
    "\n",
    "plt.plot(windows, qtde_neg_2_percent_skipgram[1], marker='o', label=\"25%\")\n",
    "plt.plot(windows, qtde_neg_2_percent_skipgram[2], marker='o', label=\"50%\")\n",
    "plt.plot(windows, qtde_neg_2_percent_skipgram[3], marker='o', label=\"75%\")\n",
    "plt.plot(windows, qtde_neg_2_percent_skipgram[4], marker='o', label=\"100%\")\n",
    "\n",
    "ax.set_xticks(windows)\n",
    "ax.set_xlabel('Contextos', fontweight='bold')\n",
    "ax.set_ylabel('Distância = -2', fontweight='bold')\n",
    "ax.set_title(\"Não encontrou no ranking - Skip-Gram\", fontweight='bold')\n",
    "\n",
    "plt.grid(True)\n",
    "plt.legend(loc=1)\n",
    "f.tight_layout()\n",
    "\n",
    "plt.savefig('distancia_menos_2_skipgram.pdf', format='pdf', dpi=400)"
   ]
  },
  {
   "cell_type": "markdown",
   "metadata": {},
   "source": [
    "## Tabela"
   ]
  },
  {
   "cell_type": "code",
   "execution_count": 60,
   "metadata": {},
   "outputs": [],
   "source": [
    "file_write = open(\"table_metrics.csv\", \"w\")\n",
    "for i in range(1,41):\n",
    "    file_write.write(str(i)+\",\"+str(result_models_metrics[i]).replace(\"[\",\"\").replace(\"]\",\"\")+\"\\n\")\n",
    "file_write.close()"
   ]
  }
 ],
 "metadata": {
  "kernelspec": {
   "display_name": "Python 3",
   "language": "python",
   "name": "python3"
  },
  "language_info": {
   "codemirror_mode": {
    "name": "ipython",
    "version": 3
   },
   "file_extension": ".py",
   "mimetype": "text/x-python",
   "name": "python",
   "nbconvert_exporter": "python",
   "pygments_lexer": "ipython3",
   "version": "3.6.5"
  }
 },
 "nbformat": 4,
 "nbformat_minor": 2
}
